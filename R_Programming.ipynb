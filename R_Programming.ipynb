{
  "metadata": {
    "kernelspec": {
      "name": "ir",
      "display_name": "R",
      "language": "R"
    },
    "language_info": {
      "name": "R",
      "codemirror_mode": "r",
      "pygments_lexer": "r",
      "mimetype": "text/x-r-source",
      "file_extension": ".r",
      "version": "4.0.5"
    },
    "colab": {
      "provenance": [],
      "include_colab_link": true
    },
    "gpuClass": "standard"
  },
  "nbformat_minor": 0,
  "nbformat": 4,
  "cells": [
    {
      "cell_type": "markdown",
      "metadata": {
        "id": "view-in-github",
        "colab_type": "text"
      },
      "source": [
        "<a href=\"https://colab.research.google.com/github/MrSingh6435/Working-with-R-Programming/blob/main/R_Programming.ipynb\" target=\"_parent\"><img src=\"https://colab.research.google.com/assets/colab-badge.svg\" alt=\"Open In Colab\"/></a>"
      ]
    },
    {
      "cell_type": "markdown",
      "source": [
        "---\n",
        "# **Learn R Programming**\n",
        "---\n",
        " - Basics Example to Understand R\n",
        " - Reading and Writing to File\n",
        " - Simple plotting\n",
        " - Multi-criteria decision making (MCDM) using Topsis\n",
        " - Model Evaluation Parameters for Regression and Classification using R\n",
        "\n",
        "### **Self learning resource**\n",
        "- Tutorial on R **<a href=\"https://www.w3schools.com/r/\" target=\"_blank\"> Click Here</a>**\n",
        "\n",
        "\n"
      ],
      "metadata": {
        "id": "xsVvMZdV2NCK"
      }
    },
    {
      "cell_type": "markdown",
      "source": [
        "---\n",
        "# **1. Simple Examples**\n",
        "---\n",
        "## **1.1 Addition of two numbers**\n",
        "---"
      ],
      "metadata": {
        "id": "aA5v8sqBvBmy"
      }
    },
    {
      "cell_type": "code",
      "source": [
        "2 + 2                 # Addition"
      ],
      "metadata": {
        "_uuid": "d202d55d-794d-4414-b7a6-ec8ae7d6c92d",
        "_cell_guid": "f1f2ef93-39e3-4c32-bb5e-1d7e671a2644",
        "jupyter": {
          "outputs_hidden": false
        },
        "execution": {
          "iopub.status.busy": "2022-07-03T15:25:28.124907Z",
          "iopub.execute_input": "2022-07-03T15:25:28.126357Z",
          "iopub.status.idle": "2022-07-03T15:25:28.146639Z"
        },
        "trusted": true,
        "id": "e61rTaX2vBm8",
        "colab": {
          "base_uri": "https://localhost:8080/",
          "height": 34
        },
        "outputId": "7ab7b583-1b82-43f5-d815-7ea276d1dd0d"
      },
      "execution_count": 22,
      "outputs": [
        {
          "output_type": "display_data",
          "data": {
            "text/html": [
              "4"
            ],
            "text/markdown": "4",
            "text/latex": "4",
            "text/plain": [
              "[1] 4"
            ]
          },
          "metadata": {}
        }
      ]
    },
    {
      "cell_type": "markdown",
      "source": [
        "---\n",
        "## **1.2 Addition of two numbers**\n",
        "---"
      ],
      "metadata": {
        "id": "UerZIS2PE7aN"
      }
    },
    {
      "cell_type": "code",
      "source": [
        "a = 10                  # To assign\n",
        "b = 20\n",
        "c = a + b                 # Addition\n",
        "c"
      ],
      "metadata": {
        "_uuid": "d202d55d-794d-4414-b7a6-ec8ae7d6c92d",
        "_cell_guid": "f1f2ef93-39e3-4c32-bb5e-1d7e671a2644",
        "jupyter": {
          "outputs_hidden": false
        },
        "execution": {
          "iopub.status.busy": "2022-07-03T15:25:28.124907Z",
          "iopub.execute_input": "2022-07-03T15:25:28.126357Z",
          "iopub.status.idle": "2022-07-03T15:25:28.146639Z"
        },
        "trusted": true,
        "colab": {
          "base_uri": "https://localhost:8080/",
          "height": 34
        },
        "outputId": "1c9fe844-7ce0-4b5f-b7c8-26ac110e7da6",
        "id": "vHsnOVDbE7aQ"
      },
      "execution_count": 23,
      "outputs": [
        {
          "output_type": "display_data",
          "data": {
            "text/html": [
              "30"
            ],
            "text/markdown": "30",
            "text/latex": "30",
            "text/plain": [
              "[1] 30"
            ]
          },
          "metadata": {}
        }
      ]
    },
    {
      "cell_type": "code",
      "source": [
        "# To Print\n",
        "cat(c)"
      ],
      "metadata": {
        "colab": {
          "base_uri": "https://localhost:8080/"
        },
        "id": "bRPesdkVFFMV",
        "outputId": "29fe053a-583c-43d1-d5b9-3c1020ac6be9"
      },
      "execution_count": 24,
      "outputs": [
        {
          "output_type": "stream",
          "name": "stdout",
          "text": [
            "30"
          ]
        }
      ]
    },
    {
      "cell_type": "code",
      "source": [
        "# To Print\n",
        "print(c)"
      ],
      "metadata": {
        "colab": {
          "base_uri": "https://localhost:8080/"
        },
        "id": "QHN8sw8aFNFQ",
        "outputId": "d09ef71e-7a90-4450-a736-f2ad75824aac"
      },
      "execution_count": 25,
      "outputs": [
        {
          "output_type": "stream",
          "name": "stdout",
          "text": [
            "[1] 30\n"
          ]
        }
      ]
    },
    {
      "cell_type": "markdown",
      "source": [
        "---\n",
        "## **1.3 Use of function**\n",
        "---"
      ],
      "metadata": {
        "id": "JwohCs39vBm_"
      }
    },
    {
      "cell_type": "code",
      "source": [
        "# Exponential function\n",
        "exp(-200)\n"
      ],
      "metadata": {
        "colab": {
          "base_uri": "https://localhost:8080/",
          "height": 34
        },
        "id": "_OvXKGC7Xe69",
        "outputId": "4b665538-5d1f-46a3-e591-b7b1bdd06cb8"
      },
      "execution_count": 26,
      "outputs": [
        {
          "output_type": "display_data",
          "data": {
            "text/html": [
              "1.38389652673674e-87"
            ],
            "text/markdown": "1.38389652673674e-87",
            "text/latex": "1.38389652673674e-87",
            "text/plain": [
              "[1] 1.383897e-87"
            ]
          },
          "metadata": {}
        }
      ]
    },
    {
      "cell_type": "code",
      "source": [
        "# Log Function\n",
        "log(100, base = 10)"
      ],
      "metadata": {
        "colab": {
          "base_uri": "https://localhost:8080/",
          "height": 34
        },
        "id": "njSiEp4nXgo9",
        "outputId": "a62bc20e-c014-4e06-a3db-e775164b1708"
      },
      "execution_count": 27,
      "outputs": [
        {
          "output_type": "display_data",
          "data": {
            "text/html": [
              "2"
            ],
            "text/markdown": "2",
            "text/latex": "2",
            "text/plain": [
              "[1] 2"
            ]
          },
          "metadata": {}
        }
      ]
    },
    {
      "cell_type": "markdown",
      "source": [
        "---\n",
        "## **1.4 Generate Random Number**\n",
        "---"
      ],
      "metadata": {
        "id": "OW4cP0u4yCFF"
      }
    },
    {
      "cell_type": "code",
      "source": [
        "# Generate one random numbers between 0 and 1\n",
        "runif(1)"
      ],
      "metadata": {
        "_uuid": "affe3387-ab90-45ea-845c-dfa84c74994a",
        "_cell_guid": "7e2d1105-9816-472c-8ba1-a340f4a5c326",
        "jupyter": {
          "outputs_hidden": false
        },
        "execution": {
          "iopub.status.busy": "2022-07-03T15:25:28.149057Z",
          "iopub.execute_input": "2022-07-03T15:25:28.150464Z",
          "iopub.status.idle": "2022-07-03T15:25:28.178352Z"
        },
        "trusted": true,
        "colab": {
          "base_uri": "https://localhost:8080/",
          "height": 34
        },
        "id": "DUEzfl2WvBnA",
        "outputId": "971f1726-af56-44d2-8a0e-3f2e4905c185"
      },
      "execution_count": 28,
      "outputs": [
        {
          "output_type": "display_data",
          "data": {
            "text/html": [
              "0.481554423924536"
            ],
            "text/markdown": "0.481554423924536",
            "text/latex": "0.481554423924536",
            "text/plain": [
              "[1] 0.4815544"
            ]
          },
          "metadata": {}
        }
      ]
    },
    {
      "cell_type": "code",
      "source": [
        "# Generate five random numbers between 0 and 1\n",
        "round(runif(5),3)"
      ],
      "metadata": {
        "colab": {
          "base_uri": "https://localhost:8080/",
          "height": 34
        },
        "id": "l5UJWITabIdF",
        "outputId": "e751d968-e7e2-4c95-b905-1786c2d5a45c"
      },
      "execution_count": 29,
      "outputs": [
        {
          "output_type": "display_data",
          "data": {
            "text/html": [
              "<style>\n",
              ".list-inline {list-style: none; margin:0; padding: 0}\n",
              ".list-inline>li {display: inline-block}\n",
              ".list-inline>li:not(:last-child)::after {content: \"\\00b7\"; padding: 0 .5ex}\n",
              "</style>\n",
              "<ol class=list-inline><li>0.047</li><li>0.989</li><li>0.919</li><li>0.138</li><li>0.36</li></ol>\n"
            ],
            "text/markdown": "1. 0.047\n2. 0.989\n3. 0.919\n4. 0.138\n5. 0.36\n\n\n",
            "text/latex": "\\begin{enumerate*}\n\\item 0.047\n\\item 0.989\n\\item 0.919\n\\item 0.138\n\\item 0.36\n\\end{enumerate*}\n",
            "text/plain": [
              "[1] 0.047 0.989 0.919 0.138 0.360"
            ]
          },
          "metadata": {}
        }
      ]
    },
    {
      "cell_type": "code",
      "source": [
        "# Generate five random numbers between 1 and 5\n",
        "runif(5, min = 1, max = 5)"
      ],
      "metadata": {
        "colab": {
          "base_uri": "https://localhost:8080/",
          "height": 34
        },
        "id": "txvmuDTHbRvV",
        "outputId": "f2f111bd-7879-4e0b-b041-29e0b08382bf"
      },
      "execution_count": 30,
      "outputs": [
        {
          "output_type": "display_data",
          "data": {
            "text/html": [
              "<style>\n",
              ".list-inline {list-style: none; margin:0; padding: 0}\n",
              ".list-inline>li {display: inline-block}\n",
              ".list-inline>li:not(:last-child)::after {content: \"\\00b7\"; padding: 0 .5ex}\n",
              "</style>\n",
              "<ol class=list-inline><li>1.3213399713859</li><li>3.96967426035553</li><li>2.43162796553224</li><li>2.11864942219108</li><li>2.12195366248488</li></ol>\n"
            ],
            "text/markdown": "1. 1.3213399713859\n2. 3.96967426035553\n3. 2.43162796553224\n4. 2.11864942219108\n5. 2.12195366248488\n\n\n",
            "text/latex": "\\begin{enumerate*}\n\\item 1.3213399713859\n\\item 3.96967426035553\n\\item 2.43162796553224\n\\item 2.11864942219108\n\\item 2.12195366248488\n\\end{enumerate*}\n",
            "text/plain": [
              "[1] 1.321340 3.969674 2.431628 2.118649 2.121954"
            ]
          },
          "metadata": {}
        }
      ]
    },
    {
      "cell_type": "code",
      "source": [
        "# Get the type of a variable\n",
        "N <- runif(5)\n",
        "N\n",
        "class(N)"
      ],
      "metadata": {
        "colab": {
          "base_uri": "https://localhost:8080/",
          "height": 52
        },
        "id": "jkEoE4bMbbWQ",
        "outputId": "73f1a0df-bb69-48ec-a851-9933ec893a7c"
      },
      "execution_count": 31,
      "outputs": [
        {
          "output_type": "display_data",
          "data": {
            "text/html": [
              "<style>\n",
              ".list-inline {list-style: none; margin:0; padding: 0}\n",
              ".list-inline>li {display: inline-block}\n",
              ".list-inline>li:not(:last-child)::after {content: \"\\00b7\"; padding: 0 .5ex}\n",
              "</style>\n",
              "<ol class=list-inline><li>0.882606370607391</li><li>0.799630988854915</li><li>0.178524861577898</li><li>0.23422218230553</li><li>0.196058869129047</li></ol>\n"
            ],
            "text/markdown": "1. 0.882606370607391\n2. 0.799630988854915\n3. 0.178524861577898\n4. 0.23422218230553\n5. 0.196058869129047\n\n\n",
            "text/latex": "\\begin{enumerate*}\n\\item 0.882606370607391\n\\item 0.799630988854915\n\\item 0.178524861577898\n\\item 0.23422218230553\n\\item 0.196058869129047\n\\end{enumerate*}\n",
            "text/plain": [
              "[1] 0.8826064 0.7996310 0.1785249 0.2342222 0.1960589"
            ]
          },
          "metadata": {}
        },
        {
          "output_type": "display_data",
          "data": {
            "text/html": [
              "'numeric'"
            ],
            "text/markdown": "'numeric'",
            "text/latex": "'numeric'",
            "text/plain": [
              "[1] \"numeric\""
            ]
          },
          "metadata": {}
        }
      ]
    },
    {
      "cell_type": "markdown",
      "source": [
        "---\n",
        "## **1.5 Basics operations**\n",
        "---"
      ],
      "metadata": {
        "id": "c4Vga_B4b8b6"
      }
    },
    {
      "cell_type": "code",
      "source": [
        "cat(\"N   : \",N)\n",
        "cat(\"\\nMin : \",min(N))          # Min\n",
        "cat(\"\\nMax : \",max(N))          # Max\n",
        "cat(\"\\nSum : \",sum(N))          # Sum\n",
        "cat(\"\\nMean: \",mean(N))         # Mean\n",
        "cat(\"\\nSD  : \",sd(N))           # Standad Deviation"
      ],
      "metadata": {
        "colab": {
          "base_uri": "https://localhost:8080/"
        },
        "id": "xWHdHMlZbuQe",
        "outputId": "8d680090-3ffe-44b6-e32c-a69e908112b9"
      },
      "execution_count": 32,
      "outputs": [
        {
          "output_type": "stream",
          "name": "stdout",
          "text": [
            "N   :  0.8826064 0.799631 0.1785249 0.2342222 0.1960589\n",
            "Min :  0.1785249\n",
            "Max :  0.8826064\n",
            "Sum :  2.291043\n",
            "Mean:  0.4582087\n",
            "SD  :  0.3513538"
          ]
        }
      ]
    },
    {
      "cell_type": "markdown",
      "source": [
        "---\n",
        "## **1.6 Loop**\n",
        "---"
      ],
      "metadata": {
        "id": "5zyzrToXvBnB"
      }
    },
    {
      "cell_type": "code",
      "source": [
        "# Print 1 to 10\n",
        "for ( i in 1:10){\n",
        "  cat (i,\"\\n\")\n",
        "}"
      ],
      "metadata": {
        "_uuid": "6efe8de2-e55c-4db6-ba2b-0c4e1b9d0dad",
        "_cell_guid": "30d53597-98b7-4aeb-9d88-375f55b9f343",
        "jupyter": {
          "outputs_hidden": false
        },
        "execution": {
          "iopub.status.busy": "2022-07-03T15:25:28.180769Z",
          "iopub.execute_input": "2022-07-03T15:25:28.182207Z",
          "iopub.status.idle": "2022-07-03T15:25:28.203551Z"
        },
        "trusted": true,
        "colab": {
          "base_uri": "https://localhost:8080/"
        },
        "id": "BqmdotlVvBnB",
        "outputId": "6bf23fab-d851-46f2-c9d7-796757058420"
      },
      "execution_count": 33,
      "outputs": [
        {
          "output_type": "stream",
          "name": "stdout",
          "text": [
            "1 \n",
            "2 \n",
            "3 \n",
            "4 \n",
            "5 \n",
            "6 \n",
            "7 \n",
            "8 \n",
            "9 \n",
            "10 \n"
          ]
        }
      ]
    },
    {
      "cell_type": "code",
      "source": [
        "# Print 10 random number between 1 and 100 using loop\n",
        "for ( i in 1:10){\n",
        "  cat (i, \"-->\", round(runif(1,min=1,max=100),0), \"\\n\")\n",
        "}"
      ],
      "metadata": {
        "colab": {
          "base_uri": "https://localhost:8080/"
        },
        "id": "xnRY3MW4d3dp",
        "outputId": "a251ac6e-c549-4245-9e2c-aa02b257f793"
      },
      "execution_count": 34,
      "outputs": [
        {
          "output_type": "stream",
          "name": "stdout",
          "text": [
            "1 --> 24 \n",
            "2 --> 72 \n",
            "3 --> 36 \n",
            "4 --> 59 \n",
            "5 --> 7 \n",
            "6 --> 47 \n",
            "7 --> 23 \n",
            "8 --> 98 \n",
            "9 --> 64 \n",
            "10 --> 39 \n"
          ]
        }
      ]
    },
    {
      "cell_type": "code",
      "source": [
        "# Print 10 random number between 1 and 100\n",
        "N = round(runif(10, min=1, max=100), 0)\n",
        "cat(N)"
      ],
      "metadata": {
        "colab": {
          "base_uri": "https://localhost:8080/"
        },
        "id": "6qACur_9d1_A",
        "outputId": "f6bfe450-b16d-4e8e-b43b-eb30d30aa026"
      },
      "execution_count": 35,
      "outputs": [
        {
          "output_type": "stream",
          "name": "stdout",
          "text": [
            "86 74 88 69 12 67 19 25 78 33"
          ]
        }
      ]
    },
    {
      "cell_type": "markdown",
      "source": [
        "---\n",
        "## **1.7 If-Else**\n",
        "---"
      ],
      "metadata": {
        "id": "FQiGjcqdvBnC"
      }
    },
    {
      "cell_type": "code",
      "source": [
        "# If-else\n",
        "i=20\n",
        "if (i==20){\n",
        "  cat(\"Yes\")\n",
        "}else{\n",
        "  cat(\"NO\")\n",
        "}"
      ],
      "metadata": {
        "_uuid": "5decaca5-4ec3-4bcd-8d22-a3c19a348c8a",
        "_cell_guid": "85e24367-9083-445b-a3a0-12d74a158155",
        "jupyter": {
          "outputs_hidden": false
        },
        "execution": {
          "iopub.status.busy": "2022-07-03T15:25:28.205883Z",
          "iopub.execute_input": "2022-07-03T15:25:28.207300Z",
          "iopub.status.idle": "2022-07-03T15:25:28.239570Z"
        },
        "trusted": true,
        "colab": {
          "base_uri": "https://localhost:8080/"
        },
        "id": "QXxGJZZxvBnD",
        "outputId": "4e5be36e-38f0-4cfd-fd30-890fd51175ac"
      },
      "execution_count": 36,
      "outputs": [
        {
          "output_type": "stream",
          "name": "stdout",
          "text": [
            "Yes"
          ]
        }
      ]
    },
    {
      "cell_type": "code",
      "source": [
        "# Error: If-else\n",
        "i=20\n",
        "if (i==20){\n",
        "  cat(\"Yes\")\n",
        "}\n",
        "else{\n",
        "  cat(\"NO\")\n",
        "}"
      ],
      "metadata": {
        "colab": {
          "base_uri": "https://localhost:8080/",
          "height": 124
        },
        "id": "qFKez7TNecHk",
        "outputId": "a2e5436c-2e9d-4b9e-ad62-6186c311a187"
      },
      "execution_count": 37,
      "outputs": [
        {
          "output_type": "error",
          "ename": "ERROR",
          "evalue": "Error in parse(text = x, srcfile = src): <text>:6:1: unexpected 'else'\n5: }\n6: else\n   ^\n",
          "traceback": [
            "Error in parse(text = x, srcfile = src): <text>:6:1: unexpected 'else'\n5: }\n6: else\n   ^\nTraceback:\n"
          ]
        }
      ]
    },
    {
      "cell_type": "code",
      "source": [
        "# If-else\n",
        "a = 10\n",
        "b = 20\n",
        "if (a > b){\n",
        "  cat(a, \" is Greater\")\n",
        "}else{\n",
        "  cat(b, \" is Greater\")\n",
        "}"
      ],
      "metadata": {
        "colab": {
          "base_uri": "https://localhost:8080/"
        },
        "id": "5HCHtEq-egfh",
        "outputId": "e0cd44c5-9309-4547-923c-1aeb3937f553"
      },
      "execution_count": 21,
      "outputs": [
        {
          "output_type": "stream",
          "name": "stdout",
          "text": [
            "20  is Greater"
          ]
        }
      ]
    },
    {
      "cell_type": "markdown",
      "source": [
        "---\n",
        "## **1.8 Some More Examples**\n",
        "---"
      ],
      "metadata": {
        "id": "eu3Np3XmvBnG"
      }
    },
    {
      "cell_type": "code",
      "source": [
        "# Actual\n",
        "Actual <- round(runif(100, min = 1, max = 5),2)\n",
        "Actual\n",
        "class(Actual)"
      ],
      "metadata": {
        "_uuid": "b1b42519-6c1f-41f1-9209-ec2fff912ec6",
        "_cell_guid": "e653392a-adc7-41b5-a5b3-cfd62b40d3b7",
        "jupyter": {
          "outputs_hidden": false
        },
        "execution": {
          "iopub.status.busy": "2022-07-03T15:25:28.268022Z",
          "iopub.execute_input": "2022-07-03T15:25:28.270850Z",
          "iopub.status.idle": "2022-07-03T15:25:28.304475Z"
        },
        "trusted": true,
        "colab": {
          "base_uri": "https://localhost:8080/",
          "height": 86
        },
        "id": "x7ry5J4uvBnG",
        "outputId": "06e5154d-1db8-497e-f454-35aba96d640a"
      },
      "execution_count": 38,
      "outputs": [
        {
          "output_type": "display_data",
          "data": {
            "text/html": [
              "<style>\n",
              ".list-inline {list-style: none; margin:0; padding: 0}\n",
              ".list-inline>li {display: inline-block}\n",
              ".list-inline>li:not(:last-child)::after {content: \"\\00b7\"; padding: 0 .5ex}\n",
              "</style>\n",
              "<ol class=list-inline><li>4.45</li><li>3.75</li><li>1.57</li><li>2.81</li><li>2.7</li><li>4.68</li><li>1.35</li><li>1.03</li><li>3.38</li><li>3.37</li><li>3.59</li><li>4.58</li><li>3.43</li><li>1.6</li><li>1.87</li><li>1.78</li><li>4.39</li><li>4.9</li><li>3.6</li><li>3.46</li><li>1.78</li><li>1.21</li><li>4.89</li><li>3.19</li><li>2.28</li><li>3.83</li><li>3.25</li><li>3.13</li><li>1.2</li><li>4.03</li><li>2.69</li><li>2.27</li><li>4.58</li><li>4.87</li><li>4.3</li><li>3.59</li><li>1.75</li><li>1.63</li><li>4.68</li><li>4.68</li><li>1.49</li><li>1.33</li><li>3.66</li><li>3.04</li><li>1.08</li><li>2.62</li><li>2.24</li><li>3.72</li><li>1.98</li><li>3.79</li><li>1.04</li><li>4.12</li><li>1.94</li><li>4.32</li><li>4.67</li><li>3.48</li><li>4.84</li><li>2.54</li><li>1.8</li><li>2.59</li><li>1.58</li><li>3.57</li><li>4.83</li><li>4.37</li><li>3.43</li><li>4.22</li><li>2.78</li><li>3.21</li><li>2.47</li><li>4</li><li>4.51</li><li>3.68</li><li>4.75</li><li>1.89</li><li>3.19</li><li>2.94</li><li>1.24</li><li>1.44</li><li>4.07</li><li>2.64</li><li>4.86</li><li>3.71</li><li>5</li><li>1.76</li><li>1.26</li><li>4.46</li><li>4.87</li><li>3.05</li><li>3.23</li><li>1.2</li><li>3.92</li><li>3.85</li><li>1.57</li><li>3.66</li><li>4.13</li><li>4.76</li><li>4.95</li><li>3.31</li><li>1.46</li><li>3.04</li></ol>\n"
            ],
            "text/markdown": "1. 4.45\n2. 3.75\n3. 1.57\n4. 2.81\n5. 2.7\n6. 4.68\n7. 1.35\n8. 1.03\n9. 3.38\n10. 3.37\n11. 3.59\n12. 4.58\n13. 3.43\n14. 1.6\n15. 1.87\n16. 1.78\n17. 4.39\n18. 4.9\n19. 3.6\n20. 3.46\n21. 1.78\n22. 1.21\n23. 4.89\n24. 3.19\n25. 2.28\n26. 3.83\n27. 3.25\n28. 3.13\n29. 1.2\n30. 4.03\n31. 2.69\n32. 2.27\n33. 4.58\n34. 4.87\n35. 4.3\n36. 3.59\n37. 1.75\n38. 1.63\n39. 4.68\n40. 4.68\n41. 1.49\n42. 1.33\n43. 3.66\n44. 3.04\n45. 1.08\n46. 2.62\n47. 2.24\n48. 3.72\n49. 1.98\n50. 3.79\n51. 1.04\n52. 4.12\n53. 1.94\n54. 4.32\n55. 4.67\n56. 3.48\n57. 4.84\n58. 2.54\n59. 1.8\n60. 2.59\n61. 1.58\n62. 3.57\n63. 4.83\n64. 4.37\n65. 3.43\n66. 4.22\n67. 2.78\n68. 3.21\n69. 2.47\n70. 4\n71. 4.51\n72. 3.68\n73. 4.75\n74. 1.89\n75. 3.19\n76. 2.94\n77. 1.24\n78. 1.44\n79. 4.07\n80. 2.64\n81. 4.86\n82. 3.71\n83. 5\n84. 1.76\n85. 1.26\n86. 4.46\n87. 4.87\n88. 3.05\n89. 3.23\n90. 1.2\n91. 3.92\n92. 3.85\n93. 1.57\n94. 3.66\n95. 4.13\n96. 4.76\n97. 4.95\n98. 3.31\n99. 1.46\n100. 3.04\n\n\n",
            "text/latex": "\\begin{enumerate*}\n\\item 4.45\n\\item 3.75\n\\item 1.57\n\\item 2.81\n\\item 2.7\n\\item 4.68\n\\item 1.35\n\\item 1.03\n\\item 3.38\n\\item 3.37\n\\item 3.59\n\\item 4.58\n\\item 3.43\n\\item 1.6\n\\item 1.87\n\\item 1.78\n\\item 4.39\n\\item 4.9\n\\item 3.6\n\\item 3.46\n\\item 1.78\n\\item 1.21\n\\item 4.89\n\\item 3.19\n\\item 2.28\n\\item 3.83\n\\item 3.25\n\\item 3.13\n\\item 1.2\n\\item 4.03\n\\item 2.69\n\\item 2.27\n\\item 4.58\n\\item 4.87\n\\item 4.3\n\\item 3.59\n\\item 1.75\n\\item 1.63\n\\item 4.68\n\\item 4.68\n\\item 1.49\n\\item 1.33\n\\item 3.66\n\\item 3.04\n\\item 1.08\n\\item 2.62\n\\item 2.24\n\\item 3.72\n\\item 1.98\n\\item 3.79\n\\item 1.04\n\\item 4.12\n\\item 1.94\n\\item 4.32\n\\item 4.67\n\\item 3.48\n\\item 4.84\n\\item 2.54\n\\item 1.8\n\\item 2.59\n\\item 1.58\n\\item 3.57\n\\item 4.83\n\\item 4.37\n\\item 3.43\n\\item 4.22\n\\item 2.78\n\\item 3.21\n\\item 2.47\n\\item 4\n\\item 4.51\n\\item 3.68\n\\item 4.75\n\\item 1.89\n\\item 3.19\n\\item 2.94\n\\item 1.24\n\\item 1.44\n\\item 4.07\n\\item 2.64\n\\item 4.86\n\\item 3.71\n\\item 5\n\\item 1.76\n\\item 1.26\n\\item 4.46\n\\item 4.87\n\\item 3.05\n\\item 3.23\n\\item 1.2\n\\item 3.92\n\\item 3.85\n\\item 1.57\n\\item 3.66\n\\item 4.13\n\\item 4.76\n\\item 4.95\n\\item 3.31\n\\item 1.46\n\\item 3.04\n\\end{enumerate*}\n",
            "text/plain": [
              "  [1] 4.45 3.75 1.57 2.81 2.70 4.68 1.35 1.03 3.38 3.37 3.59 4.58 3.43 1.60 1.87\n",
              " [16] 1.78 4.39 4.90 3.60 3.46 1.78 1.21 4.89 3.19 2.28 3.83 3.25 3.13 1.20 4.03\n",
              " [31] 2.69 2.27 4.58 4.87 4.30 3.59 1.75 1.63 4.68 4.68 1.49 1.33 3.66 3.04 1.08\n",
              " [46] 2.62 2.24 3.72 1.98 3.79 1.04 4.12 1.94 4.32 4.67 3.48 4.84 2.54 1.80 2.59\n",
              " [61] 1.58 3.57 4.83 4.37 3.43 4.22 2.78 3.21 2.47 4.00 4.51 3.68 4.75 1.89 3.19\n",
              " [76] 2.94 1.24 1.44 4.07 2.64 4.86 3.71 5.00 1.76 1.26 4.46 4.87 3.05 3.23 1.20\n",
              " [91] 3.92 3.85 1.57 3.66 4.13 4.76 4.95 3.31 1.46 3.04"
            ]
          },
          "metadata": {}
        },
        {
          "output_type": "display_data",
          "data": {
            "text/html": [
              "'numeric'"
            ],
            "text/markdown": "'numeric'",
            "text/latex": "'numeric'",
            "text/plain": [
              "[1] \"numeric\""
            ]
          },
          "metadata": {}
        }
      ]
    },
    {
      "cell_type": "code",
      "source": [
        "# Use of Head\n",
        "head(Actual)\n",
        "head(Actual,10)\n",
        "head(Actual,20)\n"
      ],
      "metadata": {
        "id": "N7fUlhnXCbVR"
      },
      "execution_count": null,
      "outputs": []
    },
    {
      "cell_type": "code",
      "source": [
        "# Predicted\n",
        "Predicted <- round(runif(100, min = 1, max = 5),2)\n",
        "head(Predicted)"
      ],
      "metadata": {
        "id": "wmY6BXVSCtNF"
      },
      "execution_count": null,
      "outputs": []
    },
    {
      "cell_type": "markdown",
      "source": [
        "---\n",
        "## **1.9 Basic Operations (Difference, SOD, MAE, Correlation)**\n",
        "---"
      ],
      "metadata": {
        "id": "vb3jXEyLC8NW"
      }
    },
    {
      "cell_type": "code",
      "source": [
        "# Difference\n",
        "D = Actual - Predicted\n",
        "cat(D)"
      ],
      "metadata": {
        "_uuid": "b1b42519-6c1f-41f1-9209-ec2fff912ec6",
        "_cell_guid": "e653392a-adc7-41b5-a5b3-cfd62b40d3b7",
        "jupyter": {
          "outputs_hidden": false
        },
        "execution": {
          "iopub.status.busy": "2022-07-03T15:25:28.268022Z",
          "iopub.execute_input": "2022-07-03T15:25:28.270850Z",
          "iopub.status.idle": "2022-07-03T15:25:28.304475Z"
        },
        "trusted": true,
        "id": "qUwdCNajC8NY"
      },
      "execution_count": null,
      "outputs": []
    },
    {
      "cell_type": "code",
      "source": [
        "# Sum of Difference (SOD)\n",
        "SOD = sum(Actual-Predicted)\n",
        "cat(SOD)"
      ],
      "metadata": {
        "id": "cSyDHGRkDbli"
      },
      "execution_count": null,
      "outputs": []
    },
    {
      "cell_type": "code",
      "source": [
        "# Correlation\n",
        "COR = cor(Actual, Predicted)\n",
        "cat(COR)"
      ],
      "metadata": {
        "id": "q0JhhmW8DmHY"
      },
      "execution_count": null,
      "outputs": []
    },
    {
      "cell_type": "code",
      "source": [
        "# Mean Absolute Error (MAE)\n",
        "MAE = mean(abs(Actual-Predicted))\n",
        "cat(MAE)"
      ],
      "metadata": {
        "id": "93VZP6YXDhuE"
      },
      "execution_count": null,
      "outputs": []
    },
    {
      "cell_type": "code",
      "source": [
        "# Accuracy with 0.1 acceptable error\n",
        "Accuracy = abs(Actual-Predicted) > 0.1\n",
        "cat(Accuracy)\n",
        "\n",
        "Accuracy = mean(Accuracy)*100\n",
        "Accuracy"
      ],
      "metadata": {
        "id": "4DoFCRdZHw60"
      },
      "execution_count": null,
      "outputs": []
    },
    {
      "cell_type": "markdown",
      "source": [
        "---\n",
        "## **1.10 Writing to the file**\n",
        "---"
      ],
      "metadata": {
        "id": "GFcbickjD0R7"
      }
    },
    {
      "cell_type": "code",
      "source": [
        "# Get the Current Working Directory, Similar to pwd in linux\n",
        "getwd()"
      ],
      "metadata": {
        "_uuid": "b1b42519-6c1f-41f1-9209-ec2fff912ec6",
        "_cell_guid": "e653392a-adc7-41b5-a5b3-cfd62b40d3b7",
        "jupyter": {
          "outputs_hidden": false
        },
        "execution": {
          "iopub.status.busy": "2022-07-03T15:25:28.268022Z",
          "iopub.execute_input": "2022-07-03T15:25:28.270850Z",
          "iopub.status.idle": "2022-07-03T15:25:28.304475Z"
        },
        "trusted": true,
        "id": "i8sT9FcQD0R8"
      },
      "execution_count": null,
      "outputs": []
    },
    {
      "cell_type": "code",
      "source": [
        "# Writing actual and predicted to a file\n",
        "write.csv(data.frame(Actual,Predicted), file=\"SampleData.csv\", row.names=FALSE)\n",
        "# Go to the path and check for file"
      ],
      "metadata": {
        "id": "7Fd_4t7eD_vu"
      },
      "execution_count": null,
      "outputs": []
    },
    {
      "cell_type": "markdown",
      "source": [
        "---\n",
        "## **1.11 Read Actual/Predicted file and calculate the model evaluation parameters**\n",
        "---"
      ],
      "metadata": {
        "id": "KWvVDq0iEsGs"
      }
    },
    {
      "cell_type": "code",
      "source": [
        "# Get the Current Working Directory, Similar to pwd in linux\n",
        "getwd()"
      ],
      "metadata": {
        "_uuid": "b1b42519-6c1f-41f1-9209-ec2fff912ec6",
        "_cell_guid": "e653392a-adc7-41b5-a5b3-cfd62b40d3b7",
        "jupyter": {
          "outputs_hidden": false
        },
        "execution": {
          "iopub.status.busy": "2022-07-03T15:25:28.268022Z",
          "iopub.execute_input": "2022-07-03T15:25:28.270850Z",
          "iopub.status.idle": "2022-07-03T15:25:28.304475Z"
        },
        "trusted": true,
        "id": "cbFTBCSkEsGu"
      },
      "execution_count": null,
      "outputs": []
    },
    {
      "cell_type": "code",
      "source": [
        "# Read the datafile\n",
        "dataset <- read.csv(\"SampleData.csv\")\n",
        "print(head(dataset))"
      ],
      "metadata": {
        "id": "roPbwEmsFuS0"
      },
      "execution_count": null,
      "outputs": []
    },
    {
      "cell_type": "code",
      "source": [
        "# Get the column data from datafile\n",
        "cat (\"Actual-->\", head(dataset$Actual))\n",
        "cat (\"\\nPredicted-->\", head(dataset$Predicted))\n"
      ],
      "metadata": {
        "id": "KW2_Ppn9GAfY"
      },
      "execution_count": null,
      "outputs": []
    },
    {
      "cell_type": "code",
      "source": [
        "# Calcuate the model evaluation parameters and write to file\n",
        "\n",
        "# Correlation\n",
        "COR = round(cor(Actual,Predicted),2)\n",
        "\n",
        "# R_Square\n",
        "R_Square = round(COR * COR,2)\n",
        "\n",
        "# Mean Absolute Error (MAE)\n",
        "MAE = round(mean(abs(Actual-Predicted)),2)\n",
        "\n",
        "# Accuracy with 0.1 acceptable error\n",
        "Accuracy = round(mean(abs(Actual-Predicted) > 0.1),2)*100\n",
        "\n",
        "# Writing the modle evaluation parameters to a file\n",
        "write.csv(data.frame(COR, R_Square, MAE, Accuracy), file=\"ResultFile.csv\", row.names=FALSE)\n",
        "# Go to the path and check for file"
      ],
      "metadata": {
        "id": "zeq4X63vHCUZ"
      },
      "execution_count": null,
      "outputs": []
    },
    {
      "cell_type": "markdown",
      "source": [
        "---\n",
        "# **2. Basics of Data frame**\n",
        "---\n",
        "## **2.1 Generate random matrices**\n",
        "---"
      ],
      "metadata": {
        "id": "N6OvLgPd5CM3"
      }
    },
    {
      "cell_type": "code",
      "source": [
        "# Generate a matrix of 100 by 3\n",
        "\n",
        "NRows = 100\n",
        "NCols = 3\n",
        "\n",
        "m1 <- matrix(runif(NCols * NRows, min=1, max=10), ncol=NCols)\n",
        "class(m1)\n",
        "head(m1)"
      ],
      "metadata": {
        "_uuid": "b1b42519-6c1f-41f1-9209-ec2fff912ec6",
        "_cell_guid": "e653392a-adc7-41b5-a5b3-cfd62b40d3b7",
        "jupyter": {
          "outputs_hidden": false
        },
        "execution": {
          "iopub.status.busy": "2022-07-03T15:25:28.268022Z",
          "iopub.execute_input": "2022-07-03T15:25:28.270850Z",
          "iopub.status.idle": "2022-07-03T15:25:28.304475Z"
        },
        "trusted": true,
        "id": "tJa2HiId5CM4"
      },
      "execution_count": null,
      "outputs": []
    },
    {
      "cell_type": "code",
      "source": [
        "# Generate two more matrices\n",
        "NCols = 4\n",
        "m2 <- matrix(runif(NCols*NRows, min=10, max=50), ncol=NCols)\n",
        "class(m2)\n",
        "print(head(m2))\n",
        "\n",
        "NCols = 3\n",
        "m3 <- matrix(runif(NCols*NRows, min=100, max=200), ncol=NCols)\n",
        "class(m3)\n",
        "print(head(m3))"
      ],
      "metadata": {
        "id": "5AadulcNQeOw"
      },
      "execution_count": null,
      "outputs": []
    },
    {
      "cell_type": "markdown",
      "source": [
        "---\n",
        "## **2.2 Merging matrices**\n",
        "---"
      ],
      "metadata": {
        "id": "9McnAgh_Q3Ey"
      }
    },
    {
      "cell_type": "code",
      "source": [
        "# Merging matrices\n",
        "dataset <- round(data.frame(m1, m2, m3),2)\n",
        "print(head(dataset))"
      ],
      "metadata": {
        "_uuid": "b1b42519-6c1f-41f1-9209-ec2fff912ec6",
        "_cell_guid": "e653392a-adc7-41b5-a5b3-cfd62b40d3b7",
        "jupyter": {
          "outputs_hidden": false
        },
        "execution": {
          "iopub.status.busy": "2022-07-03T15:25:28.268022Z",
          "iopub.execute_input": "2022-07-03T15:25:28.270850Z",
          "iopub.status.idle": "2022-07-03T15:25:28.304475Z"
        },
        "trusted": true,
        "id": "R5G55EleQ3E0"
      },
      "execution_count": null,
      "outputs": []
    },
    {
      "cell_type": "markdown",
      "source": [
        "---\n",
        "## **2.3 Get the column names**\n",
        "---"
      ],
      "metadata": {
        "id": "ohPUPDWsRfcc"
      }
    },
    {
      "cell_type": "code",
      "source": [
        "# Column names\n",
        "names(dataset)\n"
      ],
      "metadata": {
        "_uuid": "b1b42519-6c1f-41f1-9209-ec2fff912ec6",
        "_cell_guid": "e653392a-adc7-41b5-a5b3-cfd62b40d3b7",
        "jupyter": {
          "outputs_hidden": false
        },
        "execution": {
          "iopub.status.busy": "2022-07-03T15:25:28.268022Z",
          "iopub.execute_input": "2022-07-03T15:25:28.270850Z",
          "iopub.status.idle": "2022-07-03T15:25:28.304475Z"
        },
        "trusted": true,
        "id": "8XpzFriqRfcf"
      },
      "execution_count": null,
      "outputs": []
    },
    {
      "cell_type": "markdown",
      "source": [
        "---\n",
        "## **2.4 Get the total number of columns**\n",
        "---"
      ],
      "metadata": {
        "id": "gzcexeRoSs0d"
      }
    },
    {
      "cell_type": "code",
      "source": [
        "# Total number of columns\n",
        "NCols = ncol(m1) + ncol(m2) + ncol(m3)\n",
        "NCols"
      ],
      "metadata": {
        "_uuid": "b1b42519-6c1f-41f1-9209-ec2fff912ec6",
        "_cell_guid": "e653392a-adc7-41b5-a5b3-cfd62b40d3b7",
        "jupyter": {
          "outputs_hidden": false
        },
        "execution": {
          "iopub.status.busy": "2022-07-03T15:25:28.268022Z",
          "iopub.execute_input": "2022-07-03T15:25:28.270850Z",
          "iopub.status.idle": "2022-07-03T15:25:28.304475Z"
        },
        "trusted": true,
        "id": "uLCTH1znSs0f"
      },
      "execution_count": null,
      "outputs": []
    },
    {
      "cell_type": "code",
      "source": [
        "# Total number of columns in dataset\n",
        "NCols = length(names(dataset))\n",
        "NCols"
      ],
      "metadata": {
        "id": "pBSvInzlS92M"
      },
      "execution_count": null,
      "outputs": []
    },
    {
      "cell_type": "markdown",
      "source": [
        "---\n",
        "## **2.5 Rename of columns**\n",
        "---"
      ],
      "metadata": {
        "id": "l39aheYFbaJ4"
      }
    },
    {
      "cell_type": "code",
      "source": [
        "# Generate the sequence of numbers\n",
        "c(1:NCols)"
      ],
      "metadata": {
        "_uuid": "b1b42519-6c1f-41f1-9209-ec2fff912ec6",
        "_cell_guid": "e653392a-adc7-41b5-a5b3-cfd62b40d3b7",
        "jupyter": {
          "outputs_hidden": false
        },
        "execution": {
          "iopub.status.busy": "2022-07-03T15:25:28.268022Z",
          "iopub.execute_input": "2022-07-03T15:25:28.270850Z",
          "iopub.status.idle": "2022-07-03T15:25:28.304475Z"
        },
        "trusted": true,
        "id": "4bqDgcBIbaJ7"
      },
      "execution_count": null,
      "outputs": []
    },
    {
      "cell_type": "code",
      "source": [
        "# Concatinate with sequence\n",
        "paste(\"F\", c(1:NCols),sep='')"
      ],
      "metadata": {
        "id": "t32jRfXib6av"
      },
      "execution_count": null,
      "outputs": []
    },
    {
      "cell_type": "code",
      "source": [
        "# Rename of columns\n",
        "names(dataset)<- paste(\"F\",c(1:NCols),sep='')\n",
        "print(head(dataset))"
      ],
      "metadata": {
        "id": "F3dKKSxrbwDd"
      },
      "execution_count": null,
      "outputs": []
    },
    {
      "cell_type": "markdown",
      "source": [
        "---\n",
        "## **2.6 Writing dataset to the file**\n",
        "---"
      ],
      "metadata": {
        "id": "S-ittO-V4hmc"
      }
    },
    {
      "cell_type": "code",
      "source": [
        "# Writing to the file\n",
        "write.csv(dataset, file=\"NewDataset.csv\", row.names=FALSE)\n",
        "# Go to the path and check for file"
      ],
      "metadata": {
        "id": "k6mJFXijceP5"
      },
      "execution_count": null,
      "outputs": []
    },
    {
      "cell_type": "markdown",
      "source": [
        "---\n",
        "## **2.7 Plotting the dataset**\n",
        "---"
      ],
      "metadata": {
        "id": "rxFs4cFU1jGo"
      }
    },
    {
      "cell_type": "code",
      "source": [
        "# Plot the dataset\n",
        "plot(dataset)"
      ],
      "metadata": {
        "id": "4gDptFzS1TyN"
      },
      "execution_count": null,
      "outputs": []
    },
    {
      "cell_type": "markdown",
      "source": [
        "---\n",
        "## **2.8 Summary the dataset**\n",
        "---"
      ],
      "metadata": {
        "id": "2k5OSHs-4QOT"
      }
    },
    {
      "cell_type": "code",
      "source": [
        "summary(dataset)"
      ],
      "metadata": {
        "id": "ineeMPZ54QOX"
      },
      "execution_count": null,
      "outputs": []
    },
    {
      "cell_type": "markdown",
      "source": [
        "---\n",
        "# **3. Data selection in dataframe**\n",
        "---\n",
        "## **3.1 Read and head the dataset**\n",
        "---"
      ],
      "metadata": {
        "id": "fTYn7cZw1zMB"
      }
    },
    {
      "cell_type": "code",
      "source": [
        "# Read the dataset file\n",
        "dataset = read.csv(\"NewDataset.csv\")\n",
        "head(dataset)"
      ],
      "metadata": {
        "id": "dhAYzwTW1zMD"
      },
      "execution_count": null,
      "outputs": []
    },
    {
      "cell_type": "markdown",
      "source": [
        "---\n",
        "### **3.2 Select top 10 rows of F4, F6, F7 columns**\n",
        "---"
      ],
      "metadata": {
        "id": "gcurfyvr4_gU"
      }
    },
    {
      "cell_type": "code",
      "source": [
        "dataset[1:10,c(\"F4\",\"F6\",\"F7\")]  # returns a data.frame"
      ],
      "metadata": {
        "id": "Tzutd7rM2Byu"
      },
      "execution_count": null,
      "outputs": []
    },
    {
      "cell_type": "markdown",
      "source": [
        "---\n",
        "### **3.3 Select bottom 10 rows of F4, F6, F7 columns**\n",
        "---"
      ],
      "metadata": {
        "id": "7mFj_c9XBMIO"
      }
    },
    {
      "cell_type": "code",
      "source": [
        "n = 10\n",
        "s = (nrow(dataset)-n+1):nrow(dataset)\n",
        "s"
      ],
      "metadata": {
        "id": "yIkwnvG_BMIQ"
      },
      "execution_count": null,
      "outputs": []
    },
    {
      "cell_type": "code",
      "source": [
        "dataset[s,c(\"F4\",\"F6\",\"F7\")]  # returns a data.frame"
      ],
      "metadata": {
        "id": "Ovjt2yBbJLkQ"
      },
      "execution_count": null,
      "outputs": []
    },
    {
      "cell_type": "markdown",
      "source": [
        "---\n",
        "### **3.4 Select random columns in dataframe**\n",
        "---"
      ],
      "metadata": {
        "id": "kruEiHfQ4GF-"
      }
    },
    {
      "cell_type": "code",
      "source": [
        "head(sample(dataset,3))\n",
        "# Run the code again 2-3 times"
      ],
      "metadata": {
        "id": "EYY3TbhT2kcE"
      },
      "execution_count": null,
      "outputs": []
    },
    {
      "cell_type": "code",
      "source": [
        "#To return 5 random rows\n",
        "index <- sample(1:nrow(dataset), 5)\n",
        "index\n",
        "dataset[index,]\n",
        "\n",
        "# Run the code again 2-3 times"
      ],
      "metadata": {
        "id": "vnH7VCJj5q-k"
      },
      "execution_count": null,
      "outputs": []
    },
    {
      "cell_type": "markdown",
      "source": [
        "---\n",
        "### **3.5 Shuffle the data row wise.**\n",
        "---"
      ],
      "metadata": {
        "id": "V-ZGHyAsNZ4-"
      }
    },
    {
      "cell_type": "code",
      "source": [
        "dataset <- dataset[sample(nrow(dataset)),]\n",
        "head(dataset)\n",
        "# Run the code again 2-3 times"
      ],
      "metadata": {
        "id": "x-WXgH2VNZ4_"
      },
      "execution_count": null,
      "outputs": []
    },
    {
      "cell_type": "markdown",
      "source": [
        "---\n",
        "### **3.6 Divide the data into train and test**\n",
        "---"
      ],
      "metadata": {
        "id": "yjtU5agDv0Rt"
      }
    },
    {
      "cell_type": "code",
      "source": [
        "dataset = read.csv(\"NewDataset.csv\")\n",
        "totalDataset = nrow(dataset)\n",
        "totalDataset\n",
        "training = 70\n",
        "training"
      ],
      "metadata": {
        "id": "x2OlMkhpv0Rv"
      },
      "execution_count": null,
      "outputs": []
    },
    {
      "cell_type": "code",
      "source": [
        "trainDataset <- dataset[1:(totalDataset * training/100),]\n",
        "nrow(trainDataset)\n",
        "head(trainDataset)"
      ],
      "metadata": {
        "id": "WsrvBTeszGri"
      },
      "execution_count": null,
      "outputs": []
    },
    {
      "cell_type": "code",
      "source": [
        "testDataset <- dataset[(totalDataset * training/100):totalDataset,]\n",
        "nrow(testDataset)\n",
        "head(testDataset)"
      ],
      "metadata": {
        "id": "ve9rSAwOzyWK"
      },
      "execution_count": null,
      "outputs": []
    },
    {
      "cell_type": "markdown",
      "source": [
        "---\n",
        "# **4. Plotting**\n",
        "---\n",
        "## **4.1 Basics of Plotting**"
      ],
      "metadata": {
        "id": "tTSP9BbtdD07"
      }
    },
    {
      "cell_type": "code",
      "source": [
        "# Generate random nubers\n",
        "x <- round(runif(100, min = 1, max = 5),2)\n",
        "x"
      ],
      "metadata": {
        "_uuid": "b1b42519-6c1f-41f1-9209-ec2fff912ec6",
        "_cell_guid": "e653392a-adc7-41b5-a5b3-cfd62b40d3b7",
        "jupyter": {
          "outputs_hidden": false
        },
        "execution": {
          "iopub.status.busy": "2022-07-03T15:25:28.268022Z",
          "iopub.execute_input": "2022-07-03T15:25:28.270850Z",
          "iopub.status.idle": "2022-07-03T15:25:28.304475Z"
        },
        "trusted": true,
        "id": "9i3gFlY3dD08"
      },
      "execution_count": null,
      "outputs": []
    },
    {
      "cell_type": "code",
      "source": [
        "# Plot\n",
        "plot(x)"
      ],
      "metadata": {
        "id": "BWHMMGU7dmah"
      },
      "execution_count": null,
      "outputs": []
    },
    {
      "cell_type": "code",
      "source": [
        "# Title in Plot\n",
        "plot(x, main = \"Plot of x against index 1, 2, ..., length(x)\")\n"
      ],
      "metadata": {
        "id": "g8QUQY50dnb6"
      },
      "execution_count": null,
      "outputs": []
    },
    {
      "cell_type": "code",
      "source": [
        "# X,Y Labels\n",
        "plot(x, main = \"Plot of x against index 1, 2, ..., length(x)\", xlab = \"X Axis\", ylab=\"Y Axis\")"
      ],
      "metadata": {
        "id": "eLEpS_bedoNv"
      },
      "execution_count": null,
      "outputs": []
    },
    {
      "cell_type": "markdown",
      "source": [
        "---\n",
        "## **4.2 Bivariate Plot**\n",
        "---"
      ],
      "metadata": {
        "id": "VVUc7MDpgIo3"
      }
    },
    {
      "cell_type": "code",
      "source": [
        "# Bivariate 'scatter plot' of y vs x\n",
        "y <- x^2 + runif(100)\n",
        "plot(x, y, main = \"Bivariate 'scatter plot' of y vs x\")"
      ],
      "metadata": {
        "id": "aTmnfhNZgD5e"
      },
      "execution_count": null,
      "outputs": []
    },
    {
      "cell_type": "markdown",
      "source": [
        "---\n",
        "## **4.3 Saving the Plot**\n",
        "---"
      ],
      "metadata": {
        "id": "Q1-97_ABgsWD"
      }
    },
    {
      "cell_type": "code",
      "source": [
        "# Saving the Plot to a file\n",
        "getwd()   # Get the Current Working Directory, Similar to pwd in linux\n",
        "png(filename=\"MyPlot.png\")\n",
        "plot(x, y, main = \"Bivariate 'scatter plot' of y vs x\",xlab = \"X Axis\", ylab=\"Y Axis\")\n",
        "dev.off()\n",
        "# Go to the path and check for file"
      ],
      "metadata": {
        "id": "nPOG3XJsgsWF"
      },
      "execution_count": null,
      "outputs": []
    },
    {
      "cell_type": "markdown",
      "source": [
        "---\n",
        "## **4.4 Other Plots**\n",
        "---"
      ],
      "metadata": {
        "id": "vMQamf8vhQtj"
      }
    },
    {
      "cell_type": "code",
      "source": [
        "z1 <- list(x = x, y = y)\n",
        "z1\n",
        "class(z1)"
      ],
      "metadata": {
        "id": "l4wviAT-hQtm"
      },
      "execution_count": null,
      "outputs": []
    },
    {
      "cell_type": "code",
      "source": [
        "# Plot\n",
        "plot(z1)"
      ],
      "metadata": {
        "id": "4nH9C8TqhYst"
      },
      "execution_count": null,
      "outputs": []
    },
    {
      "cell_type": "code",
      "source": [
        "# Variation in Plot\n",
        "plot(z1, type = \"l\")  # l is for lines\n"
      ],
      "metadata": {
        "id": "Qdbzq4DRiGa_"
      },
      "execution_count": null,
      "outputs": []
    },
    {
      "cell_type": "markdown",
      "source": [
        "---\n",
        "## **4.5 Increasing Order Plotting**\n",
        "---"
      ],
      "metadata": {
        "id": "xTGItQo7iVkQ"
      }
    },
    {
      "cell_type": "code",
      "source": [
        "# Generate ording\n",
        "print(x)\n",
        "ord <- order(x)\n",
        "print(ord)"
      ],
      "metadata": {
        "id": "pTGg0ARmiVG6"
      },
      "execution_count": null,
      "outputs": []
    },
    {
      "cell_type": "code",
      "source": [
        "# Merge x, y\n",
        "z <- list(x = x[ord], y = y[ord])\n",
        "z"
      ],
      "metadata": {
        "id": "yOnahCRLitOb"
      },
      "execution_count": null,
      "outputs": []
    },
    {
      "cell_type": "code",
      "source": [
        "# lines\n",
        "plot(z, type = \"l\", main= \"X vs Y\", xlab = \"X Axis\", ylab=\"Y Axis\")"
      ],
      "metadata": {
        "id": "GspBEDpGjQUS"
      },
      "execution_count": null,
      "outputs": []
    },
    {
      "cell_type": "code",
      "source": [
        "# Points and lines overlayed\n",
        "plot(z, type = \"o\")"
      ],
      "metadata": {
        "id": "hfofER2XjVIa"
      },
      "execution_count": null,
      "outputs": []
    },
    {
      "cell_type": "code",
      "source": [
        "# steps\n",
        "plot(z, type = \"s\")"
      ],
      "metadata": {
        "id": "kFVLleUdjYI-"
      },
      "execution_count": null,
      "outputs": []
    },
    {
      "cell_type": "code",
      "source": [
        "# histogram-like\n",
        "plot(z, type = \"h\")"
      ],
      "metadata": {
        "id": "sD0VeFQJjbda"
      },
      "execution_count": null,
      "outputs": []
    },
    {
      "cell_type": "markdown",
      "source": [
        "---\n",
        "## **4.6 Grid and a curve plotting**\n",
        "---"
      ],
      "metadata": {
        "id": "euka8QYrkG8T"
      }
    },
    {
      "cell_type": "code",
      "source": [
        "plot(z, type = \"n\")\n",
        "\n",
        "# Uncomment each line and run\n",
        "#grid(lty = 1, lwd = 2)\n",
        "#curve(x^2, col = \"blue\", add = TRUE)\n",
        "#curve(x^2 + 1, col = \"blue\", add = TRUE)\n",
        "#points(z, pch = 20)"
      ],
      "metadata": {
        "id": "uphm2QDrkH0L"
      },
      "execution_count": null,
      "outputs": []
    },
    {
      "cell_type": "markdown",
      "source": [
        "---\n",
        "## **4.7 Grphical Parameters**\n",
        "---"
      ],
      "metadata": {
        "id": "acu3PS-ZlGrP"
      }
    },
    {
      "cell_type": "code",
      "source": [
        "plot(z, type = \"o\", col = 'red', pch = 16, cex = 2)"
      ],
      "metadata": {
        "id": "KyGBskshlGrR"
      },
      "execution_count": null,
      "outputs": []
    },
    {
      "cell_type": "code",
      "source": [
        "plot(z, col = c('red', 'blue'), pch = \"+\", cex = 2)"
      ],
      "metadata": {
        "id": "blddhIrrlORk"
      },
      "execution_count": null,
      "outputs": []
    },
    {
      "cell_type": "markdown",
      "source": [
        "---\n",
        "## **4.8 Colors Plotting**\n",
        "---"
      ],
      "metadata": {
        "id": "hwDoZv-ulW4i"
      }
    },
    {
      "cell_type": "code",
      "source": [
        "# List of colors\n",
        "colors()"
      ],
      "metadata": {
        "id": "YgWuOuqzlW4k"
      },
      "execution_count": null,
      "outputs": []
    },
    {
      "cell_type": "code",
      "source": [
        "# default colours (palette)\n",
        "palette()"
      ],
      "metadata": {
        "id": "EkhEbkfQlg7m"
      },
      "execution_count": null,
      "outputs": []
    },
    {
      "cell_type": "code",
      "source": [
        "# Change palette colors\n",
        "palette(sample(colors(), 10))\n",
        "plot(runif(50), col = rep(1:10, each = 5), pch = 16, cex = 2)\n",
        "\n",
        "# Re-run the code again"
      ],
      "metadata": {
        "id": "kc208SGWlh5h"
      },
      "execution_count": null,
      "outputs": []
    },
    {
      "cell_type": "markdown",
      "source": [
        "---\n",
        "## **4.9 Histogram Plotting - Frequency Plotting**\n",
        "---"
      ],
      "metadata": {
        "id": "392yti5To-R1"
      }
    },
    {
      "cell_type": "code",
      "source": [
        "# create a grouping variable of length 100\n",
        "a <- factor(sample(1:5, 100, replace = TRUE), levels = 1:5)\n",
        "a\n",
        "levels(a) <- LETTERS[1:5]\n",
        "a"
      ],
      "metadata": {
        "id": "KvMaUf7Po-R3"
      },
      "execution_count": null,
      "outputs": []
    },
    {
      "cell_type": "code",
      "source": [
        "# Histogram\n",
        "plot(a)"
      ],
      "metadata": {
        "id": "YZWG-Zz7pJeq"
      },
      "execution_count": null,
      "outputs": []
    },
    {
      "cell_type": "code",
      "source": [
        "# Box Plot\n",
        "plot(y ~ a)"
      ],
      "metadata": {
        "id": "xZH4lJTtpcF9"
      },
      "execution_count": null,
      "outputs": []
    },
    {
      "cell_type": "markdown",
      "source": [
        "---\n",
        "## **4.10 Function Plotting**\n",
        "---"
      ],
      "metadata": {
        "id": "Z-zzfHgB15f3"
      }
    },
    {
      "cell_type": "code",
      "source": [
        "plot(sin, from = -2 * pi, to = 2 * pi)"
      ],
      "metadata": {
        "id": "Cs7olKLo15f6"
      },
      "execution_count": null,
      "outputs": []
    },
    {
      "cell_type": "code",
      "source": [
        "plot(cos, from = -2 * pi, to = 2 * pi)"
      ],
      "metadata": {
        "id": "8L6FlK4e2CoV"
      },
      "execution_count": null,
      "outputs": []
    },
    {
      "cell_type": "code",
      "source": [
        " # Sign function\n",
        " damped_sin <- function(x) sin(5 * x) * exp(-x^2)"
      ],
      "metadata": {
        "id": "TIJ-1Dtz2GcJ"
      },
      "execution_count": null,
      "outputs": []
    },
    {
      "cell_type": "code",
      "source": [
        "class(damped_sin)"
      ],
      "metadata": {
        "id": "2ucuGinw2RXy"
      },
      "execution_count": null,
      "outputs": []
    },
    {
      "cell_type": "code",
      "source": [
        "plot(damped_sin, from = -pi, to = pi)"
      ],
      "metadata": {
        "id": "msV49Ob52R2Q"
      },
      "execution_count": null,
      "outputs": []
    },
    {
      "cell_type": "markdown",
      "source": [
        "---\n",
        "# **5. Working with iris Dataset using dplyr**\n",
        "---\n",
        "## **5.1 Import the iris**"
      ],
      "metadata": {
        "id": "li5M7YwOp9Lq"
      }
    },
    {
      "cell_type": "code",
      "source": [
        "data(iris)"
      ],
      "metadata": {
        "id": "j-nAN4lp9TKm"
      },
      "execution_count": null,
      "outputs": []
    },
    {
      "cell_type": "code",
      "source": [
        "# Plot iris\n",
        "plot(iris)"
      ],
      "metadata": {
        "id": "S1s4l5wf9GNF"
      },
      "execution_count": null,
      "outputs": []
    },
    {
      "cell_type": "code",
      "source": [
        "# color by Species\n",
        "plot(iris[1:4], col = as.numeric(iris$Species))"
      ],
      "metadata": {
        "id": "fouuT7uw88PB"
      },
      "execution_count": null,
      "outputs": []
    },
    {
      "cell_type": "markdown",
      "source": [
        "---\n",
        "## **5.2 Library inclusion**\n",
        "---"
      ],
      "metadata": {
        "id": "ixy_kpeX8-Ac"
      }
    },
    {
      "cell_type": "code",
      "source": [
        "# install.packages(\"dplyr\")\n",
        "library(dplyr)\n",
        "\n",
        "# Re-run again"
      ],
      "metadata": {
        "id": "sosf41zBp9Ls"
      },
      "execution_count": null,
      "outputs": []
    },
    {
      "cell_type": "markdown",
      "source": [
        "---\n",
        "## **5.3 Working with Select()**\n",
        "---"
      ],
      "metadata": {
        "id": "dOovhrtA7Nv6"
      }
    },
    {
      "cell_type": "code",
      "source": [
        "#To select the following columns\n",
        "selected <- select(iris, Sepal.Length, Sepal.Width, Petal.Length)\n",
        "head(selected)"
      ],
      "metadata": {
        "id": "QYQbKY177Nv9"
      },
      "execution_count": null,
      "outputs": []
    },
    {
      "cell_type": "code",
      "source": [
        "#To select all columns from Sepal.Length to Petal.Length\n",
        "selected1 <- select(iris, Sepal.Length:Petal.Length)\n",
        "head(selected1)"
      ],
      "metadata": {
        "id": "RwthP4Qz7xDO"
      },
      "execution_count": null,
      "outputs": []
    },
    {
      "cell_type": "code",
      "source": [
        "#To select columns with numeric indexes\n",
        "selected1 <- select(iris,c(3:5))\n",
        "head(selected1)"
      ],
      "metadata": {
        "id": "rT_PLGeD7z7S"
      },
      "execution_count": null,
      "outputs": []
    },
    {
      "cell_type": "code",
      "source": [
        "#We use(-)to hide a particular column\n",
        "selected <- select(iris, -Sepal.Length, -Sepal.Width)\n",
        "head(selected)"
      ],
      "metadata": {
        "id": "Q-oCVxwG9qf-"
      },
      "execution_count": null,
      "outputs": []
    },
    {
      "cell_type": "markdown",
      "source": [
        "---\n",
        "## **5.4 Working with filter()**\n",
        "---"
      ],
      "metadata": {
        "id": "MJ-nZI_r9xef"
      }
    },
    {
      "cell_type": "code",
      "source": [
        "#To select the first 3 rows with Species as setosa\n",
        "filtered <- filter(iris, Species == \"setosa\" )\n",
        "head(filtered)"
      ],
      "metadata": {
        "id": "OG0BW9lw9xeh"
      },
      "execution_count": null,
      "outputs": []
    },
    {
      "cell_type": "code",
      "source": [
        "#To select the last 5 rows with Species as versicolor and Sepal width more than 3\n",
        "filtered1 <- filter(iris, Species == \"versicolor\", Sepal.Width > 3)\n",
        "tail(filtered1)"
      ],
      "metadata": {
        "id": "ZActkG6N9-LF"
      },
      "execution_count": null,
      "outputs": []
    },
    {
      "cell_type": "markdown",
      "source": [
        "---\n",
        "## **5.5 Working with Mutate()**\n",
        "---"
      ],
      "metadata": {
        "id": "gRPnW7YG-NJE"
      }
    },
    {
      "cell_type": "code",
      "source": [
        "#To create a column “Greater.Half” which stores TRUE if given condition is TRUE\n",
        "col1 <- mutate(iris, Greater.Half = Sepal.Width > 0.5 * Sepal.Length)\n",
        "tail(col1)"
      ],
      "metadata": {
        "id": "s2PwcjXf-NJF"
      },
      "execution_count": null,
      "outputs": []
    },
    {
      "cell_type": "code",
      "source": [
        "#To check how many flowers satisfy this condition\n",
        "table(col1$Greater.Half)"
      ],
      "metadata": {
        "id": "O4x3vw55-dQs"
      },
      "execution_count": null,
      "outputs": []
    },
    {
      "cell_type": "markdown",
      "source": [
        "---\n",
        "## **5.6 Working with Arrange()**\n",
        "---"
      ],
      "metadata": {
        "id": "gDq504zZ-iRo"
      }
    },
    {
      "cell_type": "code",
      "source": [
        "#To arrange Sepal Width in ascending order\n",
        "arranged <- arrange(col1, Sepal.Width)\n",
        "head(arranged)"
      ],
      "metadata": {
        "id": "EPUuHV4G-iRp"
      },
      "execution_count": null,
      "outputs": []
    },
    {
      "cell_type": "code",
      "source": [
        "#To arrange Sepal Width in descending order\n",
        "arranged <- arrange(col1, desc(Sepal.Width))\n",
        "head(arranged)"
      ],
      "metadata": {
        "id": "NO8Cmw8y-r_U"
      },
      "execution_count": null,
      "outputs": []
    },
    {
      "cell_type": "markdown",
      "source": [
        "---\n",
        "## **5.7 Working with Arrange()**\n",
        "---"
      ],
      "metadata": {
        "id": "_S4-S3aQ-6-l"
      }
    },
    {
      "cell_type": "code",
      "source": [
        "#To arrange Sepal Width in ascending order\n",
        "arranged <- arrange(col1, Sepal.Width)\n",
        "head(arranged)"
      ],
      "metadata": {
        "id": "HzOUOSsd-6-n"
      },
      "execution_count": null,
      "outputs": []
    },
    {
      "cell_type": "markdown",
      "source": [
        "---\n",
        "# **6. Dataset Manipulation**\n",
        "---\n",
        "## **6.1 Merging Datasets (cbind, Colunm wise)**"
      ],
      "metadata": {
        "id": "dhBqvjmoDWZi"
      }
    },
    {
      "cell_type": "code",
      "source": [
        "m1 <- matrix(c(1:9),c(3,3))\n",
        "m2 <- matrix(c(10:18),c(3,3))\n",
        "cbind(m1,m2)"
      ],
      "metadata": {
        "id": "wBWm1BoMDWZn"
      },
      "execution_count": null,
      "outputs": []
    },
    {
      "cell_type": "markdown",
      "source": [
        "---\n",
        "## **6.2 Merging Datasets (rbind, Row wise)**\n",
        "---"
      ],
      "metadata": {
        "id": "ez49yMXcD5dB"
      }
    },
    {
      "cell_type": "code",
      "source": [
        "rbind(m1,m2)"
      ],
      "metadata": {
        "id": "t2hzWXI3D5dF"
      },
      "execution_count": null,
      "outputs": []
    },
    {
      "cell_type": "markdown",
      "source": [
        "---\n",
        "## **6.3 Merge Datasets (merge, Row wise)**\n",
        "---"
      ],
      "metadata": {
        "id": "oT3MPCH3IFMb"
      }
    },
    {
      "cell_type": "code",
      "source": [
        "names <- c('v1','v2','v3')\n",
        "colnames(m1) <- names\n",
        "colnames(m2) <- names\n",
        "merge(m1,m2, by = names, all = TRUE)"
      ],
      "metadata": {
        "id": "t1sl_sDNIFMe"
      },
      "execution_count": null,
      "outputs": []
    },
    {
      "cell_type": "markdown",
      "source": [
        "---\n",
        "## **6.4 Apply Datasets (apply())**\n",
        "---"
      ],
      "metadata": {
        "id": "CrxsZ0reIUXD"
      }
    },
    {
      "cell_type": "code",
      "source": [
        "# Sum the row wise\n",
        "m1\n",
        "apply(m1, 1, sum)"
      ],
      "metadata": {
        "id": "r1ZZPnTlIUXG"
      },
      "execution_count": null,
      "outputs": []
    },
    {
      "cell_type": "code",
      "source": [
        "# Sum the column wise\n",
        "m1\n",
        "apply(m1, 2, sum)"
      ],
      "metadata": {
        "id": "Be1nGrIQVSzZ"
      },
      "execution_count": null,
      "outputs": []
    },
    {
      "cell_type": "code",
      "source": [
        "# Mean the column wise\n",
        "m1\n",
        "apply(m1, 2, mean)"
      ],
      "metadata": {
        "id": "yttGDs_IVvHs"
      },
      "execution_count": null,
      "outputs": []
    },
    {
      "cell_type": "code",
      "source": [
        "# Square every value\n",
        "square<-function(x) x * x\n",
        "\n",
        "apply(m1, 2, square)"
      ],
      "metadata": {
        "id": "vHNFvKhcU8Lk"
      },
      "execution_count": null,
      "outputs": []
    },
    {
      "cell_type": "markdown",
      "source": [
        "---\n",
        "## **7. Model Evaluation Parameters for Regression and Classification using R**\n",
        "---\n",
        "- For Notebook **<a href=\"https://github.com/psrana/Model-Evaluation-Parameters-for-Regression-and-Classification\" target=\"_blank\"> Click Here</a>**\n"
      ],
      "metadata": {
        "id": "Gr-5KVIDWoSH"
      }
    },
    {
      "cell_type": "markdown",
      "source": [
        "---\n",
        "## **8. Multi-criteria decision making (MCDM) using Topsis**\n",
        "---\n",
        "- For Notebook **<a href=\"https://github.com/psrana/Topsis\" target=\"_blank\"> Click Here</a>**\n"
      ],
      "metadata": {
        "id": "9OsgF0EjeDiI"
      }
    }
  ]
}